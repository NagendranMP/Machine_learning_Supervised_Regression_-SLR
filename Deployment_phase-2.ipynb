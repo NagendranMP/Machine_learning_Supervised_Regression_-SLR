{
 "cells": [
  {
   "cell_type": "code",
   "execution_count": 1,
   "id": "de0fffa0",
   "metadata": {},
   "outputs": [],
   "source": [
    "import pickle # this library is for save or load our model"
   ]
  },
  {
   "cell_type": "code",
   "execution_count": 2,
   "id": "e5d25abe",
   "metadata": {},
   "outputs": [],
   "source": [
    "load_model=pickle.load(open(\"finalized_model_linear.sav\",\"rb\")) #load our saved model by using load method in pickle library\n",
    " "
   ]
  },
  {
   "cell_type": "code",
   "execution_count": 3,
   "id": "dca0607c",
   "metadata": {},
   "outputs": [
    {
     "name": "stdout",
     "output_type": "stream",
     "text": [
      "Give Your Input Value:0\n"
     ]
    },
    {
     "name": "stderr",
     "output_type": "stream",
     "text": [
      "C:\\ProgramData\\anaconda3\\Lib\\site-packages\\sklearn\\base.py:464: UserWarning: X does not have valid feature names, but LinearRegression was fitted with feature names\n",
      "  warnings.warn(\n"
     ]
    },
    {
     "data": {
      "text/plain": [
       "array([[26777.3913412]])"
      ]
     },
     "execution_count": 3,
     "metadata": {},
     "output_type": "execute_result"
    }
   ],
   "source": [
    "user=int(input(\"Give Your Input Value:\")) # getting the input from user\n",
    "pred=load_model.predict([[user]]) # it is for prediction \n",
    "pred # print our prediction value"
   ]
  },
  {
   "cell_type": "code",
   "execution_count": null,
   "id": "c07e59bd",
   "metadata": {},
   "outputs": [],
   "source": []
  }
 ],
 "metadata": {
  "kernelspec": {
   "display_name": "Python 3 (ipykernel)",
   "language": "python",
   "name": "python3"
  },
  "language_info": {
   "codemirror_mode": {
    "name": "ipython",
    "version": 3
   },
   "file_extension": ".py",
   "mimetype": "text/x-python",
   "name": "python",
   "nbconvert_exporter": "python",
   "pygments_lexer": "ipython3",
   "version": "3.11.5"
  }
 },
 "nbformat": 4,
 "nbformat_minor": 5
}
